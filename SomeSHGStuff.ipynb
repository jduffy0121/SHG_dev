{
 "cells": [
  {
   "cell_type": "code",
   "execution_count": 1,
   "id": "9b0d9b4c",
   "metadata": {},
   "outputs": [],
   "source": [
    "import numpy as np\n",
    "import matplotlib.pyplot as plt\n",
    "from sympy import *\n",
    "import sympy\n",
    "from sympy import flatten\n",
    "from matplotlib.backends.backend_tkagg import FigureCanvasTkAgg\n",
    "%matplotlib inline\n",
    "import math\n",
    "import os\n",
    "from sympy.parsing.sympy_parser import parse_expr\n",
    "from sympy.physics.quantum import tensorproduct\n",
    "from decimal import *\n",
    "# from Core.function import TensorMath as tm\n",
    "import symengine as se\n",
    "\n",
    "# from jupyterthemes import get_themes\n",
    "# from jupyterthemes.stylefx import set_nb_theme\n",
    "# set_nb_theme('gruvboxd')"
   ]
  },
  {
   "cell_type": "code",
   "execution_count": 2,
   "id": "2445db6a",
   "metadata": {},
   "outputs": [],
   "source": [
    "theta, phi, delta, xxx, xxy, xxz, xyx, xyy, xyz, xzx, xzy, xzz, yxx, yxy, yxz, yyx, yyy, yyz, yzx, yzy, yzz, zxx, zxy, zxz, zyx, zyy, zyz, zzx, zzy, zzz, \\\n",
    "xxxx, xxxy, xxxz, xyxx, xyxy, xyxz, xzxx, xzxy, xzxz, xxyx, xxyy, xxyz, xyyx, xyyy, xyyz, xzyx, xzyy, xzyz, xxzx, xxzy, xxzz, xyzx, xyzy, xyzz, \\\n",
    "xzzx, xzzy, xzzz, yxxx, yxxy, yxxz, yyxx, yyxy, yyxz, yzxx, yzxy, yzxz, yxyx, yxyy, yxyz, yyyx, yyyy, yyyz, yzyx, yzyy, yzyz, yxzx, yxzy, yxzz, \\\n",
    "yyzx, yyzy, yyzz, yzzx, yzzy, yzzz, zxxx, zxxy, zxxz, zyxx, zyxy, zyxz, zzxx, zzxy, zzxz, zxyx, zxyy, zxyz, zyyx, zyyy, zyyz, zzyx, zzyy, zzyz, \\\n",
    "zxzx, zxzy, zxzz, zyzx, zyzy, zyzz, zzzx, zzzy, zzzz, t_p, t_s, t_pt, t_st, theta_t, n, beta, E_x, E_y, E_z, E_xt, E_yt, E_zt, E_xf, E_yf, E_zf = symbols(\n",
    "    'theta phi delta xxx xxy xxz xyx xyy xyz xzx xzy xzz yxx yxy yxz yyx yyy yyz yzx yzy yzz zxx zxy zxz zyx zyy zyz zzx '\n",
    "    'zzy zzz xxxx xxxy xxxz xyxx xyxy xyxz xzxx xzxy xzxz xxyx xxyy xxyz xyyx xyyy xyyz xzyx xzyy xzyz xxzx xxzy '\n",
    "    'xxzz xyzx xyzy xyzz xzzx xzzy xzzz yxxx yxxy yxxz yyxx yyxy yyxz yzxx yzxy yzxz yxyx yxyy yxyz yyyx yyyy yyyz '\n",
    "    'yzyx yzyy yzyz yxzx yxzy yxzz yyzx yyzy yyzz yzzx yzzy yzzz zxxx zxxy zxxz zyxx zyxy zyxz zzxx zzxy zzxz zxyx '\n",
    "    'zxyy zxyz zyyx zyyy zyyz zzyx zzyy zzyz zxzx zxzy zxzz zyzx zyzy zyzz zzzx zzzy zzzz t_p t_s t_pt t_st theta_t n beta E_x E_y E_z E_xt E_yt E_zt E_xf E_yf E_zf')\n",
    "\n",
    "phi_value = np.arange(0, 2 * np.pi, .01)[1:]"
   ]
  },
  {
   "cell_type": "code",
   "execution_count": 3,
   "id": "23b70b71",
   "metadata": {},
   "outputs": [
    {
     "data": {
      "application/vnd.jupyter.widget-view+json": {
       "model_id": "83c15c35dcd64f79891c8b428857e343",
       "version_major": 2,
       "version_minor": 0
      },
      "text/plain": [
       "interactive(children=(FloatSlider(value=0.93, description='t_s', max=1.0, step=0.01), FloatSlider(value=0.31, …"
      ]
     },
     "metadata": {},
     "output_type": "display_data"
    }
   ],
   "source": [
    "import numpy as np\n",
    "import matplotlib.pyplot as plt\n",
    "from ipywidgets import interactive, widgets, Layout, interact\n",
    "\n",
    "def calculate_intensity(t_s, t_p, t_st, t_pt):\n",
    "    phiList = np.arange(0, 2*np.pi+2*np.pi/64, 2*np.pi/64)\n",
    "    theta = np.pi/6\n",
    "    theta_t = np.pi/12\n",
    "    xxz = 1\n",
    "    zxx = 1.3\n",
    "    zzz = -13.9\n",
    "    sIntensity = []\n",
    "    pIntensity = []\n",
    "    max_intensity = 0\n",
    "    max_s = 0\n",
    "    max_p = 0\n",
    "\n",
    "    for phi in phiList:\n",
    "        rs = 4*t_p**2*t_s**2*t_st**2*xxz**2*np.sin(phi)**2*np.sin(theta_t)**2*np.cos(phi)**2\n",
    "        sIntensity.append(rs)\n",
    "        if rs > max_s:\n",
    "            max_s = rs\n",
    "        rp = (-2*t_p**2*t_pt*xxz*np.sin(theta_t)*np.cos(phi)**2*np.cos(theta_t)**2 + (-t_pt)*(t_p**2*zxx*np.cos(phi)**2*np.cos(theta_t)**2 + t_p**2*zzz*np.sin(theta_t)**2*np.cos(phi)**2 + t_s**2*zxx*np.sin(phi)**2)*np.sin(theta_t))**2\n",
    "        pIntensity.append(rp)\n",
    "        if rp > max_p:\n",
    "            max_p = rp\n",
    "        \n",
    "    if max_s >= max_p:\n",
    "        max_intensity = max_s\n",
    "    else:\n",
    "        max_intensity = max_p\n",
    "\n",
    "    fig, ax = plt.subplots(subplot_kw={'projection': 'polar'})\n",
    "    ax.plot(phiList, sIntensity,)\n",
    "    ax.plot(phiList, pIntensity)\n",
    "    plt.legend(['s', 'p'], loc=\"upper center\")\n",
    "    ax.set_rmax(max_intensity+max_intensity*0.2)\n",
    "    ax.set_rlabel_position(-22.5)\n",
    "    ax.grid(True)\n",
    "\n",
    "    ax.set_title(\"C4v S\", va='bottom')\n",
    "    plt.show()\n",
    "\n",
    "# Define sliders for t_s, t_p, t_st, and t_pt ranging from 0 to 1\n",
    "t_s_slider = widgets.FloatSlider(value=0.93, min=0, max=1, step=0.01, description='t_s')\n",
    "t_p_slider = widgets.FloatSlider(value=0.31, min=0, max=1, step=0.01, description='t_p')\n",
    "t_st_slider = widgets.FloatSlider(value=1.0, min=0, max=1, step=0.01, description='t_st')\n",
    "t_pt_slider = widgets.FloatSlider(value=0.31, min=0, max=1, step=0.01, description='t_pt')\n",
    "\n",
    "# Use the 'interactive' function to link the sliders with the function\n",
    "interactive_plot = interactive(calculate_intensity, t_s=t_s_slider, t_p=t_p_slider, t_st=t_st_slider, t_pt=t_pt_slider)\n",
    "\n",
    "# Display the widgets\n",
    "display(interactive_plot)\n"
   ]
  },
  {
   "cell_type": "code",
   "execution_count": 4,
   "id": "0846b360",
   "metadata": {},
   "outputs": [
    {
     "data": {
      "application/vnd.jupyter.widget-view+json": {
       "model_id": "ed3111dcc94f47f3befd278fb1223374",
       "version_major": 2,
       "version_minor": 0
      },
      "text/plain": [
       "interactive(children=(FloatSlider(value=0.95, description='t_s', max=1.0, step=0.01), FloatSlider(value=0.85, …"
      ]
     },
     "metadata": {},
     "output_type": "display_data"
    }
   ],
   "source": [
    "def calculate_intensity(t_s, t_p, t_st, t_pt):\n",
    "    phiList = np.arange(0, 2*np.pi+2*np.pi/64, 2*np.pi/64)\n",
    "    theta = np.pi/6\n",
    "    theta_t = np.pi/12\n",
    "    xxz = 1\n",
    "    zxx = 1.3\n",
    "    zzz = -13.9\n",
    "    xzx = 1\n",
    "    zyy = 1\n",
    "    sIntensity = []\n",
    "    pIntensity = []\n",
    "    max_intensity = 0\n",
    "    max_s = 0\n",
    "    max_p = 0\n",
    "\n",
    "    for phi in phiList:\n",
    "        rs = 4*t_p**2*t_s**2*t_st**2*yzy**2*np.sin(phi)**2*np.sin(theta_t)**2*np.cos(phi)**2\n",
    "        sIntensity.append(rs)\n",
    "        if rs > max_s:\n",
    "            max_s = rs\n",
    "        rp = (-2*t_p**2*t_pt*xzx*np.sin(theta_t)*np.cos(phi)**2*np.cos(theta_t)**2 + (-t_pt)*(t_p**2*zxx*np.cos(phi)**2*np.cos(theta_t)**2 + t_p**2*zzz*np.sin(theta_t)**2*np.cos(phi)**2 + t_s**2*zyy*np.sin(phi)**2)*np.sin(theta_t))**2\n",
    "        pIntensity.append(rp)\n",
    "        if rp > max_p:\n",
    "            max_p = rp\n",
    "        \n",
    "    if max_s >= max_p:\n",
    "        max_intensity = max_s\n",
    "    else:\n",
    "        max_intensity = max_p\n",
    "\n",
    "    fig, ax = plt.subplots(subplot_kw={'projection': 'polar'})\n",
    "    ax.plot(phiList, sIntensity,)\n",
    "    ax.plot(phiList, pIntensity)\n",
    "    plt.legend(['s', 'p'], loc=\"upper center\")\n",
    "    ax.set_rmax(max_intensity+max_intensity*0.2)\n",
    "    ax.set_rlabel_position(-22.5)\n",
    "    ax.grid(True)\n",
    "\n",
    "    ax.set_title(\"C2v S\", va='bottom')\n",
    "    plt.show()\n",
    "\n",
    "# Define sliders for t_s, t_p, t_st, and t_pt ranging from 0 to 1\n",
    "t_s_slider = widgets.FloatSlider(value=0.95, min=0, max=1, step=0.01, description='t_s')\n",
    "t_p_slider = widgets.FloatSlider(value=0.85, min=0, max=1, step=0.01, description='t_p')\n",
    "t_st_slider = widgets.FloatSlider(value=0.9, min=0, max=1, step=0.01, description='t_st')\n",
    "t_pt_slider = widgets.FloatSlider(value=0.8, min=0, max=1, step=0.01, description='t_pt')\n",
    "\n",
    "# Use the 'interactive' function to link the sliders with the function\n",
    "interactive_plot = interactive(calculate_intensity, t_s=t_s_slider, t_p=t_p_slider, t_st=t_st_slider, t_pt=t_pt_slider)\n",
    "\n",
    "# Display the widgets\n",
    "display(interactive_plot)\n"
   ]
  },
  {
   "cell_type": "code",
   "execution_count": 5,
   "id": "afcb46a1",
   "metadata": {},
   "outputs": [
    {
     "data": {
      "application/vnd.jupyter.widget-view+json": {
       "model_id": "57910c1d713340fa8927152166f81667",
       "version_major": 2,
       "version_minor": 0
      },
      "text/plain": [
       "interactive(children=(FloatSlider(value=0.93, description='t_s', max=1.0, step=0.01), FloatSlider(value=0.31, …"
      ]
     },
     "metadata": {},
     "output_type": "display_data"
    }
   ],
   "source": [
    "import numpy as np\n",
    "import matplotlib.pyplot as plt\n",
    "from ipywidgets import interactive, widgets, Layout, interact\n",
    "\n",
    "def calculate_intensity(t_s, t_p, t_st, t_pt):\n",
    "    phiList = np.arange(0, 2*np.pi+2*np.pi/64, 2*np.pi/64)\n",
    "    theta = np.pi/6\n",
    "    theta_t = np.pi/12\n",
    "    xxz = 1\n",
    "    zxx = 1.3\n",
    "    zzz = -13.9\n",
    "    sIntensity = []\n",
    "    pIntensity = []\n",
    "    max_intensity = 0\n",
    "    max_s = 0\n",
    "    max_p = 0\n",
    "\n",
    "    for phi in phiList:\n",
    "        rs = 4*t_p**2*t_s**2*t_st**2*xxz**2*np.sin(phi)**2*np.sin(theta_t)**2*np.cos(phi)**2\n",
    "        sIntensity.append(rs)\n",
    "        if rs > max_s:\n",
    "            max_s = rs\n",
    "        rp = (-2*t_p**2*t_pt*xzx*sin(theta_t)*cos(phi)**2*cos(theta_t)**2 + (-t_pt)*(t_p**2*zxx*cos(phi)**2*cos(theta_t)**2 + t_p**2*zzz*sin(theta_t)**2*cos(phi)**2 + t_s**2*zyy*sin(phi)**2)*sin(theta_t))**2\n",
    "        pIntensity.append(rp)\n",
    "        if rp > max_p:\n",
    "            max_p = rp\n",
    "        \n",
    "    if max_s >= max_p:\n",
    "        max_intensity = max_s\n",
    "    else:\n",
    "        max_intensity = max_p\n",
    "\n",
    "    fig, ax = plt.subplots(subplot_kw={'projection': 'polar'})\n",
    "    ax.plot(phiList, sIntensity,)\n",
    "    ax.plot(phiList, pIntensity)\n",
    "    plt.legend(['s', 'p'], loc=\"upper center\")\n",
    "    ax.set_rmax(max_intensity+max_intensity*0.2)\n",
    "    ax.set_rlabel_position(-22.5)\n",
    "    ax.grid(True)\n",
    "\n",
    "    ax.set_title(\"C4v S\", va='bottom')\n",
    "    plt.show()\n",
    "\n",
    "# Define sliders for t_s, t_p, t_st, and t_pt ranging from 0 to 1\n",
    "t_s_slider = widgets.FloatSlider(value=0.93, min=0, max=1, step=0.01, description='t_s')\n",
    "t_p_slider = widgets.FloatSlider(value=0.31, min=0, max=1, step=0.01, description='t_p')\n",
    "t_st_slider = widgets.FloatSlider(value=1.0, min=0, max=1, step=0.01, description='t_st')\n",
    "t_pt_slider = widgets.FloatSlider(value=0.31, min=0, max=1, step=0.01, description='t_pt')\n",
    "\n",
    "# Use the 'interactive' function to link the sliders with the function\n",
    "interactive_plot = interactive(calculate_intensity, t_s=t_s_slider, t_p=t_p_slider, t_st=t_st_slider, t_pt=t_pt_slider)\n",
    "\n",
    "# Display the widgets\n",
    "display(interactive_plot)\n"
   ]
  },
  {
   "cell_type": "code",
   "execution_count": null,
   "id": "5dd7ffb8",
   "metadata": {},
   "outputs": [],
   "source": []
  }
 ],
 "metadata": {
  "kernelspec": {
   "display_name": "Python 3 (ipykernel)",
   "language": "python",
   "name": "python3"
  },
  "language_info": {
   "codemirror_mode": {
    "name": "ipython",
    "version": 3
   },
   "file_extension": ".py",
   "mimetype": "text/x-python",
   "name": "python",
   "nbconvert_exporter": "python",
   "pygments_lexer": "ipython3",
   "version": "3.10.9"
  }
 },
 "nbformat": 4,
 "nbformat_minor": 5
}
